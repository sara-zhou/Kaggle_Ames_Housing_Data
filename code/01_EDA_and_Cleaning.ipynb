{
 "cells": [
  {
   "cell_type": "code",
   "execution_count": null,
   "id": "83dc7364-815e-43c7-949c-1440a63c31e5",
   "metadata": {
    "tags": []
   },
   "outputs": [],
   "source": [
    "#imports\n",
    "import pandas as pd"
   ]
  },
  {
   "cell_type": "code",
   "execution_count": null,
   "id": "9fd0420d-28ef-4638-a1de-0c0a80e89b5d",
   "metadata": {},
   "outputs": [],
   "source": [
    "#reading in data\n",
    "train = pd.read_csv('../datasets/train.csv', keep_default_na=False, na_values=[''])\n",
    "test = pd.read_csv('../datasets/test.csv', keep_default_na=False, na_values=[''])"
   ]
  },
  {
   "cell_type": "code",
   "execution_count": null,
   "id": "8242d475-1df4-4784-8634-023af5d27b90",
   "metadata": {
    "tags": []
   },
   "outputs": [],
   "source": [
    "train.head()"
   ]
  },
  {
   "cell_type": "code",
   "execution_count": null,
   "id": "14364b98-e5e6-4578-bf62-526edcfd99d4",
   "metadata": {},
   "outputs": [],
   "source": [
    "train.dtypes"
   ]
  },
  {
   "cell_type": "code",
   "execution_count": null,
   "id": "2f3767f4-1d94-4ea6-aa5f-0b3fb97ee443",
   "metadata": {},
   "outputs": [],
   "source": [
    "train.isna().sum().sort_values()"
   ]
  },
  {
   "cell_type": "code",
   "execution_count": null,
   "id": "b4372fc2-ac26-4192-a1f0-0abc1513fa22",
   "metadata": {},
   "outputs": [],
   "source": [
    "train['Lot Frontage'] = train['Lot Frontage'].fillna(train['Lot Frontage'].mean())\n",
    "train['Mas Vnr Type'] = train['Mas Vnr Type'].fillna('None')\n",
    "train['Mas Vnr Area'] = train['Mas Vnr Area'].fillna(0)\n",
    "train['Bsmt Qual'] = train['Bsmt Qual'].fillna('NA')\n",
    "train['Bsmt Cond'] = train['Bsmt Cond'].fillna('NA')\n",
    "train['Bsmt Exposure'] = train['Bsmt Exposure'].fillna('NA')\n",
    "train['BsmtFin Type 1'] = train['BsmtFin Type 1'].fillna('NA')\n",
    "train['BsmtFin SF 1'] = train['BsmtFin SF 1'].fillna(0)\n",
    "train['BsmtFin Type 2'] = train['BsmtFin Type 2'].fillna('NA')\n",
    "train['BsmtFin SF 2'] = train['BsmtFin SF 2'].fillna(0)\n",
    "train['Total Bsmt SF'] = train['Total Bsmt SF'].fillna(0)\n",
    "train['Bsmt Full Bath'] = train['Bsmt Full Bath'].fillna(0)\n",
    "train['Bsmt Half Bath'] = train['Bsmt Half Bath'].fillna(0)\n",
    "train['Garage Qual'] = train['Garage Qual'].fillna('NA')\n",
    "train['Garage Area'] = train['Garage Area'].fillna(0)\n",
    "train['Garage Cars'] = train['Garage Cars'].fillna(0)\n",
    "train['Garage Finish'] = train['Garage Finish'].fillna('NA')\n",
    "train['Bsmt Unf SF'] = train['Bsmt Unf SF'].fillna(0)\n",
    "train['Garage Cond'] = train['Garage Cond'].fillna('NA')\n",
    "train.drop(columns = ['Garage Yr Blt'], inplace = True)\n",
    "train.drop(train[train['1st Flr SF'] > 3000].index, inplace = True)"
   ]
  },
  {
   "cell_type": "code",
   "execution_count": null,
   "id": "564cd535-d09b-4b34-bedb-53e902ca09cf",
   "metadata": {},
   "outputs": [],
   "source": [
    "train.columns"
   ]
  },
  {
   "cell_type": "code",
   "execution_count": null,
   "id": "52951059-23c9-4aef-866e-369b6ee65523",
   "metadata": {},
   "outputs": [],
   "source": [
    "train['Bathrooms'] = train['Full Bath'] + train['Half Bath'] + train['Bsmt Half Bath'] + train['Bsmt Full Bath']\n",
    "train.drop(columns = ['Full Bath', 'Half Bath', 'Bsmt Half Bath', 'Bsmt Full Bath'], inplace = True)"
   ]
  },
  {
   "cell_type": "code",
   "execution_count": null,
   "id": "952b3b9e-7c7f-4e5a-9cb1-11fbd6dba8a0",
   "metadata": {},
   "outputs": [],
   "source": [
    "train['SF'] = train['1st Flr SF'] + train['2nd Flr SF'] + train['Total Bsmt SF']\n",
    "train.drop(columns = ['1st Flr SF', '2nd Flr SF', 'Total Bsmt SF'], inplace = True)"
   ]
  },
  {
   "cell_type": "code",
   "execution_count": null,
   "id": "6e4b9993-705f-47b6-bb19-92d5b16c446a",
   "metadata": {},
   "outputs": [],
   "source": [
    "test['Lot Frontage'] = test['Lot Frontage'].fillna(test['Lot Frontage'].mean())\n",
    "test['Mas Vnr Type'] = test['Mas Vnr Type'].fillna('None')\n",
    "test['Mas Vnr Area'] = test['Mas Vnr Area'].fillna(0)\n",
    "test['Bsmt Qual'] = test['Bsmt Qual'].fillna('NA')\n",
    "test['Bsmt Cond'] = test['Bsmt Cond'].fillna('NA')\n",
    "test['Bsmt Exposure'] = test['Bsmt Exposure'].fillna('NA')\n",
    "test['BsmtFin Type 1'] = test['BsmtFin Type 1'].fillna('NA')\n",
    "test['BsmtFin SF 1'] = test['BsmtFin SF 1'].fillna(0)\n",
    "test['BsmtFin Type 2'] = test['BsmtFin Type 2'].fillna('NA')\n",
    "test['BsmtFin SF 2'] = test['BsmtFin SF 2'].fillna(0)\n",
    "test['Total Bsmt SF'] = test['Total Bsmt SF'].fillna(0)\n",
    "test['Bsmt Full Bath'] = test['Bsmt Full Bath'].fillna(0)\n",
    "test['Bsmt Half Bath'] = test['Bsmt Half Bath'].fillna(0)\n",
    "test['Garage Qual'] = test['Garage Qual'].fillna('NA')\n",
    "test['Garage Area'] = test['Garage Area'].fillna(0)\n",
    "test['Garage Cars'] = test['Garage Cars'].fillna(0)\n",
    "test['Garage Finish'] = test['Garage Finish'].fillna('NA')\n",
    "test['Bsmt Unf SF'] = test['Bsmt Unf SF'].fillna(0)\n",
    "test['Garage Cond'] = test['Garage Cond'].fillna('NA')\n",
    "test.drop(columns = ['Garage Yr Blt'], inplace = True)\n",
    "test.drop(test[test['1st Flr SF'] > 3000].index, inplace = True)"
   ]
  },
  {
   "cell_type": "code",
   "execution_count": null,
   "id": "fa591c07-adfc-48aa-b109-3b9097642bad",
   "metadata": {},
   "outputs": [],
   "source": [
    "test['Bathrooms'] = test['Full Bath'] + test['Half Bath'] + test['Bsmt Half Bath'] + test['Bsmt Full Bath']\n",
    "test.drop(columns = ['Full Bath', 'Half Bath', 'Bsmt Half Bath', 'Bsmt Full Bath'], inplace = True)"
   ]
  },
  {
   "cell_type": "code",
   "execution_count": null,
   "id": "95fc9680-708d-4495-a2f1-7986e87071b2",
   "metadata": {},
   "outputs": [],
   "source": [
    "test['SF'] = test['1st Flr SF'] + test['2nd Flr SF'] + test['Total Bsmt SF']\n",
    "test.drop(columns = ['1st Flr SF', '2nd Flr SF', 'Total Bsmt SF'], inplace = True)"
   ]
  },
  {
   "cell_type": "code",
   "execution_count": null,
   "id": "1fd50f33-eb93-44a6-9fc4-d162a0ccbafb",
   "metadata": {},
   "outputs": [],
   "source": [
    "train.isna().sum().sort_values()"
   ]
  },
  {
   "cell_type": "code",
   "execution_count": null,
   "id": "f0ec5814-863d-4e1c-ac4d-1c465a96d636",
   "metadata": {},
   "outputs": [],
   "source": [
    "train.to_csv('../datasets/cleaned_train.csv', index_label = False, index = False, columns = train.columns)\n",
    "test.to_csv('../datasets/cleaned_test.csv', index_label = False, index = False, columns = test.columns)"
   ]
  }
 ],
 "metadata": {
  "kernelspec": {
   "display_name": "Python 3 (ipykernel)",
   "language": "python",
   "name": "python3"
  },
  "language_info": {
   "codemirror_mode": {
    "name": "ipython",
    "version": 3
   },
   "file_extension": ".py",
   "mimetype": "text/x-python",
   "name": "python",
   "nbconvert_exporter": "python",
   "pygments_lexer": "ipython3",
   "version": "3.9.7"
  }
 },
 "nbformat": 4,
 "nbformat_minor": 5
}
