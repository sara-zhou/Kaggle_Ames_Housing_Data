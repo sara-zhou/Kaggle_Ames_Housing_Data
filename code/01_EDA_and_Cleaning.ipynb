{
 "cells": [
  {
   "cell_type": "code",
   "execution_count": 1,
   "id": "83dc7364-815e-43c7-949c-1440a63c31e5",
   "metadata": {
    "tags": []
   },
   "outputs": [],
   "source": [
    "#imports\n",
    "import pandas as pd"
   ]
  },
  {
   "cell_type": "code",
   "execution_count": 2,
   "id": "9fd0420d-28ef-4638-a1de-0c0a80e89b5d",
   "metadata": {},
   "outputs": [],
   "source": [
    "#reading in data\n",
    "train = pd.read_csv('../datasets/train.csv', keep_default_na=False, na_values=[''])\n",
    "test = pd.read_csv('../datasets/test.csv', keep_default_na=False, na_values=[''])"
   ]
  },
  {
   "cell_type": "code",
   "execution_count": 3,
   "id": "8242d475-1df4-4784-8634-023af5d27b90",
   "metadata": {
    "tags": []
   },
   "outputs": [
    {
     "data": {
      "text/html": [
       "<div>\n",
       "<style scoped>\n",
       "    .dataframe tbody tr th:only-of-type {\n",
       "        vertical-align: middle;\n",
       "    }\n",
       "\n",
       "    .dataframe tbody tr th {\n",
       "        vertical-align: top;\n",
       "    }\n",
       "\n",
       "    .dataframe thead th {\n",
       "        text-align: right;\n",
       "    }\n",
       "</style>\n",
       "<table border=\"1\" class=\"dataframe\">\n",
       "  <thead>\n",
       "    <tr style=\"text-align: right;\">\n",
       "      <th></th>\n",
       "      <th>Id</th>\n",
       "      <th>PID</th>\n",
       "      <th>MS SubClass</th>\n",
       "      <th>MS Zoning</th>\n",
       "      <th>Lot Frontage</th>\n",
       "      <th>Lot Area</th>\n",
       "      <th>Street</th>\n",
       "      <th>Alley</th>\n",
       "      <th>Lot Shape</th>\n",
       "      <th>Land Contour</th>\n",
       "      <th>...</th>\n",
       "      <th>Screen Porch</th>\n",
       "      <th>Pool Area</th>\n",
       "      <th>Pool QC</th>\n",
       "      <th>Fence</th>\n",
       "      <th>Misc Feature</th>\n",
       "      <th>Misc Val</th>\n",
       "      <th>Mo Sold</th>\n",
       "      <th>Yr Sold</th>\n",
       "      <th>Sale Type</th>\n",
       "      <th>SalePrice</th>\n",
       "    </tr>\n",
       "  </thead>\n",
       "  <tbody>\n",
       "    <tr>\n",
       "      <th>0</th>\n",
       "      <td>109</td>\n",
       "      <td>533352170</td>\n",
       "      <td>60</td>\n",
       "      <td>RL</td>\n",
       "      <td>NaN</td>\n",
       "      <td>13517</td>\n",
       "      <td>Pave</td>\n",
       "      <td>NA</td>\n",
       "      <td>IR1</td>\n",
       "      <td>Lvl</td>\n",
       "      <td>...</td>\n",
       "      <td>0</td>\n",
       "      <td>0</td>\n",
       "      <td>NA</td>\n",
       "      <td>NA</td>\n",
       "      <td>NA</td>\n",
       "      <td>0</td>\n",
       "      <td>3</td>\n",
       "      <td>2010</td>\n",
       "      <td>WD</td>\n",
       "      <td>130500</td>\n",
       "    </tr>\n",
       "    <tr>\n",
       "      <th>1</th>\n",
       "      <td>544</td>\n",
       "      <td>531379050</td>\n",
       "      <td>60</td>\n",
       "      <td>RL</td>\n",
       "      <td>43.0</td>\n",
       "      <td>11492</td>\n",
       "      <td>Pave</td>\n",
       "      <td>NA</td>\n",
       "      <td>IR1</td>\n",
       "      <td>Lvl</td>\n",
       "      <td>...</td>\n",
       "      <td>0</td>\n",
       "      <td>0</td>\n",
       "      <td>NA</td>\n",
       "      <td>NA</td>\n",
       "      <td>NA</td>\n",
       "      <td>0</td>\n",
       "      <td>4</td>\n",
       "      <td>2009</td>\n",
       "      <td>WD</td>\n",
       "      <td>220000</td>\n",
       "    </tr>\n",
       "    <tr>\n",
       "      <th>2</th>\n",
       "      <td>153</td>\n",
       "      <td>535304180</td>\n",
       "      <td>20</td>\n",
       "      <td>RL</td>\n",
       "      <td>68.0</td>\n",
       "      <td>7922</td>\n",
       "      <td>Pave</td>\n",
       "      <td>NA</td>\n",
       "      <td>Reg</td>\n",
       "      <td>Lvl</td>\n",
       "      <td>...</td>\n",
       "      <td>0</td>\n",
       "      <td>0</td>\n",
       "      <td>NA</td>\n",
       "      <td>NA</td>\n",
       "      <td>NA</td>\n",
       "      <td>0</td>\n",
       "      <td>1</td>\n",
       "      <td>2010</td>\n",
       "      <td>WD</td>\n",
       "      <td>109000</td>\n",
       "    </tr>\n",
       "    <tr>\n",
       "      <th>3</th>\n",
       "      <td>318</td>\n",
       "      <td>916386060</td>\n",
       "      <td>60</td>\n",
       "      <td>RL</td>\n",
       "      <td>73.0</td>\n",
       "      <td>9802</td>\n",
       "      <td>Pave</td>\n",
       "      <td>NA</td>\n",
       "      <td>Reg</td>\n",
       "      <td>Lvl</td>\n",
       "      <td>...</td>\n",
       "      <td>0</td>\n",
       "      <td>0</td>\n",
       "      <td>NA</td>\n",
       "      <td>NA</td>\n",
       "      <td>NA</td>\n",
       "      <td>0</td>\n",
       "      <td>4</td>\n",
       "      <td>2010</td>\n",
       "      <td>WD</td>\n",
       "      <td>174000</td>\n",
       "    </tr>\n",
       "    <tr>\n",
       "      <th>4</th>\n",
       "      <td>255</td>\n",
       "      <td>906425045</td>\n",
       "      <td>50</td>\n",
       "      <td>RL</td>\n",
       "      <td>82.0</td>\n",
       "      <td>14235</td>\n",
       "      <td>Pave</td>\n",
       "      <td>NA</td>\n",
       "      <td>IR1</td>\n",
       "      <td>Lvl</td>\n",
       "      <td>...</td>\n",
       "      <td>0</td>\n",
       "      <td>0</td>\n",
       "      <td>NA</td>\n",
       "      <td>NA</td>\n",
       "      <td>NA</td>\n",
       "      <td>0</td>\n",
       "      <td>3</td>\n",
       "      <td>2010</td>\n",
       "      <td>WD</td>\n",
       "      <td>138500</td>\n",
       "    </tr>\n",
       "  </tbody>\n",
       "</table>\n",
       "<p>5 rows × 81 columns</p>\n",
       "</div>"
      ],
      "text/plain": [
       "    Id        PID  MS SubClass MS Zoning  Lot Frontage  Lot Area Street Alley  \\\n",
       "0  109  533352170           60        RL           NaN     13517   Pave    NA   \n",
       "1  544  531379050           60        RL          43.0     11492   Pave    NA   \n",
       "2  153  535304180           20        RL          68.0      7922   Pave    NA   \n",
       "3  318  916386060           60        RL          73.0      9802   Pave    NA   \n",
       "4  255  906425045           50        RL          82.0     14235   Pave    NA   \n",
       "\n",
       "  Lot Shape Land Contour  ... Screen Porch Pool Area Pool QC Fence  \\\n",
       "0       IR1          Lvl  ...            0         0      NA    NA   \n",
       "1       IR1          Lvl  ...            0         0      NA    NA   \n",
       "2       Reg          Lvl  ...            0         0      NA    NA   \n",
       "3       Reg          Lvl  ...            0         0      NA    NA   \n",
       "4       IR1          Lvl  ...            0         0      NA    NA   \n",
       "\n",
       "  Misc Feature Misc Val Mo Sold Yr Sold  Sale Type  SalePrice  \n",
       "0           NA        0       3    2010        WD      130500  \n",
       "1           NA        0       4    2009        WD      220000  \n",
       "2           NA        0       1    2010        WD      109000  \n",
       "3           NA        0       4    2010        WD      174000  \n",
       "4           NA        0       3    2010        WD      138500  \n",
       "\n",
       "[5 rows x 81 columns]"
      ]
     },
     "execution_count": 3,
     "metadata": {},
     "output_type": "execute_result"
    }
   ],
   "source": [
    "#checking out the data\n",
    "train.head()"
   ]
  },
  {
   "cell_type": "code",
   "execution_count": 4,
   "id": "14364b98-e5e6-4578-bf62-526edcfd99d4",
   "metadata": {},
   "outputs": [
    {
     "data": {
      "text/plain": [
       "Id                int64\n",
       "PID               int64\n",
       "MS SubClass       int64\n",
       "MS Zoning        object\n",
       "Lot Frontage    float64\n",
       "                 ...   \n",
       "Misc Val          int64\n",
       "Mo Sold           int64\n",
       "Yr Sold           int64\n",
       "Sale Type        object\n",
       "SalePrice         int64\n",
       "Length: 81, dtype: object"
      ]
     },
     "execution_count": 4,
     "metadata": {},
     "output_type": "execute_result"
    }
   ],
   "source": [
    "#checking types for object columns\n",
    "train.dtypes"
   ]
  },
  {
   "cell_type": "code",
   "execution_count": 5,
   "id": "2f3767f4-1d94-4ea6-aa5f-0b3fb97ee443",
   "metadata": {},
   "outputs": [
    {
     "data": {
      "text/plain": [
       "Id                 0\n",
       "Central Air        0\n",
       "Electrical         0\n",
       "1st Flr SF         0\n",
       "2nd Flr SF         0\n",
       "                ... \n",
       "Bsmt Exposure      4\n",
       "Mas Vnr Area      22\n",
       "Mas Vnr Type      22\n",
       "Garage Yr Blt    114\n",
       "Lot Frontage     330\n",
       "Length: 81, dtype: int64"
      ]
     },
     "execution_count": 5,
     "metadata": {},
     "output_type": "execute_result"
    }
   ],
   "source": [
    "#checking for nulls\n",
    "train.isna().sum().sort_values()"
   ]
  },
  {
   "cell_type": "code",
   "execution_count": 6,
   "id": "b4372fc2-ac26-4192-a1f0-0abc1513fa22",
   "metadata": {},
   "outputs": [],
   "source": [
    "#filling out all train null values\n",
    "train['Lot Frontage'] = train['Lot Frontage'].fillna(train['Lot Frontage'].mean())\n",
    "train['Mas Vnr Type'] = train['Mas Vnr Type'].fillna('None')\n",
    "train['Mas Vnr Area'] = train['Mas Vnr Area'].fillna(0)\n",
    "train['Bsmt Qual'] = train['Bsmt Qual'].fillna('NA')\n",
    "train['Bsmt Cond'] = train['Bsmt Cond'].fillna('NA')\n",
    "train['Bsmt Exposure'] = train['Bsmt Exposure'].fillna('NA')\n",
    "train['BsmtFin Type 1'] = train['BsmtFin Type 1'].fillna('NA')\n",
    "train['BsmtFin SF 1'] = train['BsmtFin SF 1'].fillna(0)\n",
    "train['BsmtFin Type 2'] = train['BsmtFin Type 2'].fillna('NA')\n",
    "train['BsmtFin SF 2'] = train['BsmtFin SF 2'].fillna(0)\n",
    "train['Total Bsmt SF'] = train['Total Bsmt SF'].fillna(0)\n",
    "train['Bsmt Full Bath'] = train['Bsmt Full Bath'].fillna(0)\n",
    "train['Bsmt Half Bath'] = train['Bsmt Half Bath'].fillna(0)\n",
    "train['Garage Qual'] = train['Garage Qual'].fillna('NA')\n",
    "train['Garage Area'] = train['Garage Area'].fillna(0)\n",
    "train['Garage Cars'] = train['Garage Cars'].fillna(0)\n",
    "train['Garage Finish'] = train['Garage Finish'].fillna('NA')\n",
    "train['Bsmt Unf SF'] = train['Bsmt Unf SF'].fillna(0)\n",
    "train['Garage Cond'] = train['Garage Cond'].fillna('NA')\n",
    "train.drop(columns = ['Garage Yr Blt'], inplace = True)\n",
    "train.drop(train[train['1st Flr SF'] > 3000].index, inplace = True)\n",
    "train.drop(train[train['SalePrice'] > 450_000].index, inplace = True)"
   ]
  },
  {
   "cell_type": "code",
   "execution_count": 7,
   "id": "564cd535-d09b-4b34-bedb-53e902ca09cf",
   "metadata": {},
   "outputs": [
    {
     "data": {
      "text/plain": [
       "Index(['Id', 'PID', 'MS SubClass', 'MS Zoning', 'Lot Frontage', 'Lot Area',\n",
       "       'Street', 'Alley', 'Lot Shape', 'Land Contour', 'Utilities',\n",
       "       'Lot Config', 'Land Slope', 'Neighborhood', 'Condition 1',\n",
       "       'Condition 2', 'Bldg Type', 'House Style', 'Overall Qual',\n",
       "       'Overall Cond', 'Year Built', 'Year Remod/Add', 'Roof Style',\n",
       "       'Roof Matl', 'Exterior 1st', 'Exterior 2nd', 'Mas Vnr Type',\n",
       "       'Mas Vnr Area', 'Exter Qual', 'Exter Cond', 'Foundation', 'Bsmt Qual',\n",
       "       'Bsmt Cond', 'Bsmt Exposure', 'BsmtFin Type 1', 'BsmtFin SF 1',\n",
       "       'BsmtFin Type 2', 'BsmtFin SF 2', 'Bsmt Unf SF', 'Total Bsmt SF',\n",
       "       'Heating', 'Heating QC', 'Central Air', 'Electrical', '1st Flr SF',\n",
       "       '2nd Flr SF', 'Low Qual Fin SF', 'Gr Liv Area', 'Bsmt Full Bath',\n",
       "       'Bsmt Half Bath', 'Full Bath', 'Half Bath', 'Bedroom AbvGr',\n",
       "       'Kitchen AbvGr', 'Kitchen Qual', 'TotRms AbvGrd', 'Functional',\n",
       "       'Fireplaces', 'Fireplace Qu', 'Garage Type', 'Garage Finish',\n",
       "       'Garage Cars', 'Garage Area', 'Garage Qual', 'Garage Cond',\n",
       "       'Paved Drive', 'Wood Deck SF', 'Open Porch SF', 'Enclosed Porch',\n",
       "       '3Ssn Porch', 'Screen Porch', 'Pool Area', 'Pool QC', 'Fence',\n",
       "       'Misc Feature', 'Misc Val', 'Mo Sold', 'Yr Sold', 'Sale Type',\n",
       "       'SalePrice'],\n",
       "      dtype='object')"
      ]
     },
     "execution_count": 7,
     "metadata": {},
     "output_type": "execute_result"
    }
   ],
   "source": [
    "#checking all column names\n",
    "train.columns"
   ]
  },
  {
   "cell_type": "code",
   "execution_count": 8,
   "id": "52951059-23c9-4aef-866e-369b6ee65523",
   "metadata": {},
   "outputs": [],
   "source": [
    "#making a new bathrooms column that combines all bathrooms for train data\n",
    "train['Bathrooms'] = train['Full Bath'] + train['Half Bath'] + train['Bsmt Half Bath'] + train['Bsmt Full Bath']\n",
    "train.drop(columns = ['Full Bath', 'Half Bath', 'Bsmt Half Bath', 'Bsmt Full Bath'], inplace = True)"
   ]
  },
  {
   "cell_type": "code",
   "execution_count": 9,
   "id": "952b3b9e-7c7f-4e5a-9cb1-11fbd6dba8a0",
   "metadata": {},
   "outputs": [],
   "source": [
    "#making a new square foot column that combines total square footage for train data\n",
    "train['SF'] = train['1st Flr SF'] + train['2nd Flr SF'] + train['Total Bsmt SF']\n",
    "train.drop(columns = ['1st Flr SF', '2nd Flr SF', 'Total Bsmt SF'], inplace = True)"
   ]
  },
  {
   "cell_type": "code",
   "execution_count": 10,
   "id": "6e4b9993-705f-47b6-bb19-92d5b16c446a",
   "metadata": {},
   "outputs": [],
   "source": [
    "#filling out test null values\n",
    "test['Lot Frontage'] = test['Lot Frontage'].fillna(test['Lot Frontage'].mean())\n",
    "test['Mas Vnr Type'] = test['Mas Vnr Type'].fillna('None')\n",
    "test['Mas Vnr Area'] = test['Mas Vnr Area'].fillna(0)\n",
    "test['Bsmt Qual'] = test['Bsmt Qual'].fillna('NA')\n",
    "test['Bsmt Cond'] = test['Bsmt Cond'].fillna('NA')\n",
    "test['Bsmt Exposure'] = test['Bsmt Exposure'].fillna('NA')\n",
    "test['BsmtFin Type 1'] = test['BsmtFin Type 1'].fillna('NA')\n",
    "test['BsmtFin SF 1'] = test['BsmtFin SF 1'].fillna(0)\n",
    "test['BsmtFin Type 2'] = test['BsmtFin Type 2'].fillna('NA')\n",
    "test['BsmtFin SF 2'] = test['BsmtFin SF 2'].fillna(0)\n",
    "test['Total Bsmt SF'] = test['Total Bsmt SF'].fillna(0)\n",
    "test['Bsmt Full Bath'] = test['Bsmt Full Bath'].fillna(0)\n",
    "test['Bsmt Half Bath'] = test['Bsmt Half Bath'].fillna(0)\n",
    "test['Garage Qual'] = test['Garage Qual'].fillna('NA')\n",
    "test['Garage Area'] = test['Garage Area'].fillna(0)\n",
    "test['Garage Cars'] = test['Garage Cars'].fillna(0)\n",
    "test['Garage Finish'] = test['Garage Finish'].fillna('NA')\n",
    "test['Bsmt Unf SF'] = test['Bsmt Unf SF'].fillna(0)\n",
    "test['Garage Cond'] = test['Garage Cond'].fillna('NA')\n",
    "test.drop(columns = ['Garage Yr Blt'], inplace = True)\n",
    "test.drop(test[test['1st Flr SF'] > 3000].index, inplace = True)"
   ]
  },
  {
   "cell_type": "code",
   "execution_count": 11,
   "id": "fa591c07-adfc-48aa-b109-3b9097642bad",
   "metadata": {},
   "outputs": [],
   "source": [
    "#making a new bathrooms column that combines all bathrooms for test data\n",
    "test['Bathrooms'] = test['Full Bath'] + test['Half Bath'] + test['Bsmt Half Bath'] + test['Bsmt Full Bath']\n",
    "test.drop(columns = ['Full Bath', 'Half Bath', 'Bsmt Half Bath', 'Bsmt Full Bath'], inplace = True)"
   ]
  },
  {
   "cell_type": "code",
   "execution_count": 12,
   "id": "95fc9680-708d-4495-a2f1-7986e87071b2",
   "metadata": {
    "tags": []
   },
   "outputs": [],
   "source": [
    "#making a new square foot column that combines all square footage for test data\n",
    "test['SF'] = test['1st Flr SF'] + test['2nd Flr SF'] + test['Total Bsmt SF']\n",
    "test.drop(columns = ['1st Flr SF', '2nd Flr SF', 'Total Bsmt SF'], inplace = True)"
   ]
  },
  {
   "cell_type": "code",
   "execution_count": 13,
   "id": "1fd50f33-eb93-44a6-9fc4-d162a0ccbafb",
   "metadata": {},
   "outputs": [
    {
     "data": {
      "text/plain": [
       "Id                0\n",
       "Garage Finish     0\n",
       "Garage Type       0\n",
       "Fireplace Qu      0\n",
       "Fireplaces        0\n",
       "                 ..\n",
       "Roof Style        0\n",
       "Year Remod/Add    0\n",
       "Year Built        0\n",
       "Overall Qual      0\n",
       "SF                0\n",
       "Length: 75, dtype: int64"
      ]
     },
     "execution_count": 13,
     "metadata": {},
     "output_type": "execute_result"
    }
   ],
   "source": [
    "#last check for nulls\n",
    "train.isna().sum().sort_values()"
   ]
  },
  {
   "cell_type": "code",
   "execution_count": 14,
   "id": "f0ec5814-863d-4e1c-ac4d-1c465a96d636",
   "metadata": {},
   "outputs": [],
   "source": [
    "#saving my cleaned data into a new csv file\n",
    "train.to_csv('../datasets/cleaned_train.csv', index_label = False, index = False, columns = train.columns)\n",
    "test.to_csv('../datasets/cleaned_test.csv', index_label = False, index = False, columns = test.columns)"
   ]
  }
 ],
 "metadata": {
  "kernelspec": {
   "display_name": "Python 3 (ipykernel)",
   "language": "python",
   "name": "python3"
  },
  "language_info": {
   "codemirror_mode": {
    "name": "ipython",
    "version": 3
   },
   "file_extension": ".py",
   "mimetype": "text/x-python",
   "name": "python",
   "nbconvert_exporter": "python",
   "pygments_lexer": "ipython3",
   "version": "3.9.7"
  }
 },
 "nbformat": 4,
 "nbformat_minor": 5
}
