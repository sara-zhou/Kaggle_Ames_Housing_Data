{
 "cells": [
  {
   "cell_type": "code",
   "execution_count": 4,
   "id": "83dc7364-815e-43c7-949c-1440a63c31e5",
   "metadata": {
    "tags": []
   },
   "outputs": [],
   "source": [
    "#imports\n",
    "import pandas as pd\n",
    "import matplotlib.pyplot as plt\n",
    "import seaborn as sns"
   ]
  },
  {
   "cell_type": "code",
   "execution_count": 6,
   "id": "9fd0420d-28ef-4638-a1de-0c0a80e89b5d",
   "metadata": {},
   "outputs": [],
   "source": [
    "#reading in data\n",
    "train = pd.read_csv('./datasets/train.csv', keep_default_na=False, na_values=[''])\n",
    "test = pd.read_csv('./datasets/test.csv', keep_default_na=False, na_values=[''])"
   ]
  },
  {
   "cell_type": "code",
   "execution_count": null,
   "id": "8242d475-1df4-4784-8634-023af5d27b90",
   "metadata": {
    "tags": []
   },
   "outputs": [],
   "source": [
    "train.head()"
   ]
  },
  {
   "cell_type": "code",
   "execution_count": null,
   "id": "14364b98-e5e6-4578-bf62-526edcfd99d4",
   "metadata": {},
   "outputs": [],
   "source": []
  }
 ],
 "metadata": {
  "kernelspec": {
   "display_name": "Python 3 (ipykernel)",
   "language": "python",
   "name": "python3"
  },
  "language_info": {
   "codemirror_mode": {
    "name": "ipython",
    "version": 3
   },
   "file_extension": ".py",
   "mimetype": "text/x-python",
   "name": "python",
   "nbconvert_exporter": "python",
   "pygments_lexer": "ipython3",
   "version": "3.9.7"
  }
 },
 "nbformat": 4,
 "nbformat_minor": 5
}
